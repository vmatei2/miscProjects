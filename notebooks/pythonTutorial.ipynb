{
 "cells": [
  {
   "cell_type": "markdown",
   "metadata": {
    "pycharm": {
     "name": "#%% md\n"
    }
   },
   "source": [
    "### 1.Introduction and Motivation\n",
    "\n",
    "- Why Python? Why begin with Python?\n",
    "\n",
    "    - **Verstatility:** Used in wide range of fields, web development / data science, analysis, visualisation / scientific computing\n",
    "    - **Learning process:** Focuses on readability and simplicity. Syntax is very much like human speech, hence as a user, the learning curve to being able to write functioning code isn't as big as other languages   (also easier to read/understand other people's code, big part of programming).\n",
    "    Provides abstraction from the details of the computer, hence users can focus on solving problems directly.\n",
    "    - **Large Community:** Building on the two points above, Python has a very large user community. Whatever problem you are trying to solve, it is very likely that someone else has solved it already or another similar one, and the answer can be found online/adapted to your own requirements.\n",
    "    - **Data analysis and visualisation:** Specific libraries created by others that can be used to manipulate, explore and visualise large data sets. Does not require a lot of setup, hence powerful tool when working with data and trying to understand and present it."
   ]
  },
  {
   "cell_type": "markdown",
   "source": [
    "### 2. Setting up the programming environment\n",
    "\n",
    "PDF / Confluence?"
   ],
   "metadata": {
    "collapsed": false,
    "pycharm": {
     "name": "#%% md\n"
    }
   }
  },
  {
   "cell_type": "markdown",
   "source": [
    "### 3. Basics\n",
    "\n",
    "### Main Data types\n",
    "**1. Representing numbers**\n",
    "\n",
    "In Python, every value has a type associated with it. For representing numbers, the two main ones are integer and floats. 3rd one being complex numbers."
   ],
   "metadata": {
    "collapsed": false,
    "pycharm": {
     "name": "#%% md\n"
    }
   }
  },
  {
   "cell_type": "code",
   "execution_count": 7,
   "outputs": [],
   "source": [
    "a=5"
   ],
   "metadata": {
    "collapsed": false,
    "pycharm": {
     "name": "#%%\n"
    }
   }
  },
  {
   "cell_type": "code",
   "execution_count": 8,
   "outputs": [],
   "source": [
    "b=10"
   ],
   "metadata": {
    "collapsed": false,
    "pycharm": {
     "name": "#%%\n"
    }
   }
  },
  {
   "cell_type": "code",
   "execution_count": 9,
   "outputs": [
    {
     "name": "stdout",
     "output_type": "stream",
     "text": [
      "15\n",
      "<class 'int'>\n"
     ]
    }
   ],
   "source": [
    "print(a+b)\n",
    "print(type(a+b))  # checking that the type of the addition is an integer, as the two number above"
   ],
   "metadata": {
    "collapsed": false,
    "pycharm": {
     "name": "#%%\n"
    }
   }
  },
  {
   "cell_type": "code",
   "execution_count": 11,
   "outputs": [
    {
     "name": "stdout",
     "output_type": "stream",
     "text": [
      "2.727272727272727\n",
      "<class 'float'>\n"
     ]
    }
   ],
   "source": [
    "c=5.5  #  defining c as a float variable\n",
    "print((a+b)/c)  # Python does the calculations\n",
    "print(type(a+b-c))  # automatically converts the result to a float type"
   ],
   "metadata": {
    "collapsed": false,
    "pycharm": {
     "name": "#%%\n"
    }
   }
  },
  {
   "cell_type": "markdown",
   "source": [
    "**2. Representing Text**\n",
    "\n",
    "Text in Python is represented through a 'string' data type. A string is simply a sequence of characters, enclosed in single/double quotes.\n",
    "\n",
    "##### Examples and usage\n",
    "\n",
    "1. Creating strings"
   ],
   "metadata": {
    "collapsed": false,
    "pycharm": {
     "name": "#%% md\n"
    }
   }
  },
  {
   "cell_type": "code",
   "execution_count": null,
   "outputs": [],
   "source": [
    "name = \"Jess\" # double quotes\n",
    "message = \"Thanks for joining the session!\""
   ],
   "metadata": {
    "collapsed": false,
    "pycharm": {
     "name": "#%%\n"
    }
   }
  },
  {
   "cell_type": "markdown",
   "source": [
    "2.  String Indexing and Slicing"
   ],
   "metadata": {
    "collapsed": false,
    "pycharm": {
     "name": "#%% md\n"
    }
   }
  },
  {
   "cell_type": "code",
   "execution_count": 14,
   "outputs": [
    {
     "name": "stdout",
     "output_type": "stream",
     "text": [
      "L\n",
      "don\n"
     ]
    }
   ],
   "source": [
    "city = 'London'\n",
    "print(city[0]) # string, stored as a sequence of characters, count starts at 0\n",
    "print(city[3:6]) # printing final 3 characters of the word"
   ],
   "metadata": {
    "collapsed": false,
    "pycharm": {
     "name": "#%%\n"
    }
   }
  },
  {
   "cell_type": "markdown",
   "source": [
    "3. String Concatenation"
   ],
   "metadata": {
    "collapsed": false,
    "pycharm": {
     "name": "#%% md\n"
    }
   }
  },
  {
   "cell_type": "code",
   "execution_count": null,
   "outputs": [],
   "source": [
    "example = \"UBS\" + \" \" + \"office in London\"\n",
    "print(example)"
   ],
   "metadata": {
    "collapsed": false,
    "pycharm": {
     "name": "#%%\n"
    }
   }
  },
  {
   "cell_type": "markdown",
   "source": [
    "4. String Length - using Python built-in functions"
   ],
   "metadata": {
    "collapsed": false,
    "pycharm": {
     "name": "#%% md\n"
    }
   }
  },
  {
   "cell_type": "code",
   "execution_count": null,
   "outputs": [],
   "source": [
    "print(len(example))\n"
   ],
   "metadata": {
    "collapsed": false,
    "pycharm": {
     "name": "#%%\n"
    }
   }
  },
  {
   "cell_type": "markdown",
   "source": [
    "**Booleans**\n",
    "\n",
    "Booleans represent truth values - and can have two possible states: \"True/False\".\n",
    "In terms of common uses cases, booleans can be used in:\n",
    "\n",
    "- Conditional statements - ('if' / 'elif' / 'else') for controlling the flow logic.\n",
    "\n",
    "- Data filtering - can be used to filter data based on specific criteria - e.g. selecting only entries with a value higher than a given number.\n",
    "\n",
    "- Flag Variables - in a larger program, we may want to keep track of the state of a particular variable."
   ],
   "metadata": {
    "collapsed": false,
    "pycharm": {
     "name": "#%% md\n"
    }
   }
  },
  {
   "cell_type": "code",
   "execution_count": null,
   "outputs": [],
   "source": [
    "# live coding - password validation example - 8 characters long, contains numbers, one uppercase/lowercase letter\n",
    "# ask for input\n",
    "# validates - prints message (strong password, if issue - what is the issue?)\n"
   ],
   "metadata": {
    "collapsed": false,
    "pycharm": {
     "name": "#%%\n"
    }
   }
  },
  {
   "cell_type": "markdown",
   "source": [
    "### Control Flow in Python\n",
    "\n",
    "Control flow simply refers to the order in which statements are executed in a program\n",
    "\n",
    "1. Conditional statements ('if', 'elif', 'else')\n",
    "    - Conditional statements are used to execute different code blocks based on specific conditions.\n",
    "    - If checks a given condition, if 'True', then the associated code block is ran.\n",
    "    - Elif allows to check additional conditions if the previous conditions are not met\n",
    "    - Else statement can be the fallback, in case none of the conditions are met\n",
    "\n",
    "2. Loops ('while', 'for')\n",
    "\n",
    "    - Loops are used to repeat the execution of parts of code, either until a specific condition is met ('while'), or for a repeated number of times ('for')"
   ],
   "metadata": {
    "collapsed": false,
    "pycharm": {
     "name": "#%% md\n"
    }
   }
  },
  {
   "cell_type": "code",
   "source": [
    "i = 1\n",
    "while i<=5:\n",
    "    print(i)\n",
    "    i = i+1"
   ],
   "metadata": {
    "collapsed": false,
    "pycharm": {
     "name": "#%%\n"
    }
   },
   "outputs": [
    {
     "name": "stdout",
     "output_type": "stream",
     "text": [
      "1\n",
      "2\n",
      "3\n",
      "4\n",
      "5\n"
     ]
    }
   ],
   "execution_count": 18
  },
  {
   "cell_type": "code",
   "execution_count": 20,
   "outputs": [
    {
     "name": "stdout",
     "output_type": "stream",
     "text": [
      "10 is not a prime number\n"
     ]
    }
   ],
   "source": [
    "num = int(input(\"What number should we check?\"))\n",
    "number_has_factor = False\n",
    "\n",
    "if num == 1:\n",
    "    print(str(num) + \" is not prime\")\n",
    "elif num > 1:\n",
    "    for i in range(2, num):\n",
    "        if (num % i) == 0:\n",
    "            number_has_factor = True\n",
    "            break\n",
    "if number_has_factor:\n",
    "    print(str(num) + \" is not a prime number\")\n",
    "else:\n",
    "    print(str(num) + \"is a prime number\")\n"
   ],
   "metadata": {
    "collapsed": false,
    "pycharm": {
     "name": "#%%?\n"
    }
   }
  },
  {
   "cell_type": "markdown",
   "source": [
    "### Functions\n",
    "\n",
    "A function is a named block fo code that can be called and executed multiple times throughout the execution of a program. We usually write functions\n",
    "to capture a specific behaviour and re-use it.\n",
    "\n",
    "A function consists of:\n",
    "\n",
    "    - Function signature: The function signature includes the function name + any parameters it accepts\n",
    "    - Function Body: The block of code to be executed when the function is called\n",
    "    - Return statement (optional): The return statement which is used to specify the value/values that the function should return after executing its code."
   ],
   "metadata": {
    "collapsed": false,
    "pycharm": {
     "name": "#%% md\n"
    }
   }
  },
  {
   "cell_type": "code",
   "source": [
    "# re-use the code above for password analysis and create a function with input parameter and return message\n",
    "# print out the message\n",
    "# either do it as live-coding or people try it themselves or both?\n"
   ],
   "metadata": {
    "collapsed": false,
    "pycharm": {
     "name": "#%%\n"
    }
   },
   "execution_count": null,
   "outputs": []
  },
  {
   "cell_type": "markdown",
   "source": [
    "### 4. Libraries\n",
    "\n",
    "A library (module/package) is a collection of functions, variables, and classes written by others which provide additional functionality and extend the\n",
    "capabilities of the languages. We can leverage existing code to perform complex tasks without having to write everything from scratch.\n",
    "\n",
    "Libraries are commonly used for:\n",
    "\n",
    "    - Data analysis/manipulation and visualisations:  ***NumPy/Pandas/Matplotlib/Seaborn**  are just some examples of populare libraries used for performing such tasks.\n",
    "    - Scientific Computing / Machine Learning: e.g. scientific packages which allow us to use machine learning algorithms without manually implementing the mathematics behind the models. Understanding the models is still important, but allows a user to focus on analysis, reasoning behind the implementations. (builds on the point of Functions)\n"
   ],
   "metadata": {
    "collapsed": false,
    "pycharm": {
     "name": "#%% md\n"
    }
   }
  },
  {
   "cell_type": "markdown",
   "source": [
    "### 5. Interesting example?\n",
    "\n",
    "- Intersting example from a project - Agent-Baesd Model of a financial market\n",
    "\n",
    "- Uses all the concepts above\n",
    "\n",
    "- Uses libraries for analysing/plotting\n",
    "\n",
    "- Highlight relevant blocks of code - idea is show that a complex project still consists of the concepts presented above, and ends up being creating through several iterations\n"
   ],
   "metadata": {
    "collapsed": false,
    "pycharm": {
     "name": "#%% md\n"
    }
   }
  },
  {
   "cell_type": "markdown",
   "source": [
    "### 6. Data analysis examples on a csv\n",
    "\n",
    "#### If time - show, otherwise only provide code for some general data analysis on a csv (from feedback from other grads)\n",
    "\n"
   ],
   "metadata": {
    "collapsed": false,
    "pycharm": {
     "name": "#%% md\n"
    }
   }
  },
  {
   "cell_type": "markdown",
   "source": [
    "### 7. Recap of what's been covered, plus sharing resources for learning\n",
    "\n",
    "- Important to identify a problem, and aim to solve it through programming - best way for learning as a beginner."
   ],
   "metadata": {
    "collapsed": false,
    "pycharm": {
     "name": "#%% md\n"
    }
   }
  }
 ],
 "metadata": {
  "kernelspec": {
   "display_name": "Python 3 (ipykernel)",
   "language": "python",
   "name": "python3"
  },
  "language_info": {
   "codemirror_mode": {
    "name": "ipython",
    "version": 3
   },
   "file_extension": ".py",
   "mimetype": "text/x-python",
   "name": "python",
   "nbconvert_exporter": "python",
   "pygments_lexer": "ipython3",
   "version": "3.8.8"
  }
 },
 "nbformat": 4,
 "nbformat_minor": 1
}